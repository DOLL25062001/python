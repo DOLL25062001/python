{
  "cells": [
    {
      "cell_type": "markdown",
      "metadata": {
        "id": "view-in-github",
        "colab_type": "text"
      },
      "source": [
        "<a href=\"https://colab.research.google.com/github/DOLL25062001/python/blob/master/Model_and_train_csv.ipynb\" target=\"_parent\"><img src=\"https://colab.research.google.com/assets/colab-badge.svg\" alt=\"Open In Colab\"/></a>"
      ]
    },
    {
      "cell_type": "code",
      "execution_count": 2,
      "metadata": {
        "id": "_M_hIl_-C6P8",
        "colab": {
          "base_uri": "https://localhost:8080/",
          "height": 0
        },
        "outputId": "91a95a82-3320-4397-fea2-c2e2dfd5b1f0"
      },
      "outputs": [
        {
          "output_type": "stream",
          "name": "stdout",
          "text": [
            "Mounted at /content/drive\n"
          ]
        }
      ],
      "source": [
        "\n",
        "from google.colab import drive\n",
        "drive.mount('/content/drive')"
      ]
    },
    {
      "cell_type": "code",
      "source": [
        "%matplotlib inline"
      ],
      "metadata": {
        "id": "npKCjs--JhL_"
      },
      "execution_count": 3,
      "outputs": []
    },
    {
      "cell_type": "code",
      "source": [
        "%matplotlib notebook"
      ],
      "metadata": {
        "id": "owhodlhpJkwI"
      },
      "execution_count": 4,
      "outputs": []
    },
    {
      "cell_type": "code",
      "execution_count": 5,
      "metadata": {
        "id": "7hlPaQS4e5VI",
        "colab": {
          "base_uri": "https://localhost:8080/",
          "height": 0
        },
        "outputId": "686f62b3-cad4-492d-dffd-479cb3910a98"
      },
      "outputs": [
        {
          "output_type": "stream",
          "name": "stdout",
          "text": [
            "Collecting face_recognition\n",
            "  Downloading face_recognition-1.3.0-py2.py3-none-any.whl (15 kB)\n",
            "Requirement already satisfied: Click>=6.0 in /usr/local/lib/python3.7/dist-packages (from face_recognition) (7.1.2)\n",
            "Collecting face-recognition-models>=0.3.0\n",
            "  Downloading face_recognition_models-0.3.0.tar.gz (100.1 MB)\n",
            "\u001b[K     |████████████████████████████████| 100.1 MB 26 kB/s \n",
            "\u001b[?25hRequirement already satisfied: numpy in /usr/local/lib/python3.7/dist-packages (from face_recognition) (1.21.5)\n",
            "Requirement already satisfied: dlib>=19.7 in /usr/local/lib/python3.7/dist-packages (from face_recognition) (19.18.0)\n",
            "Requirement already satisfied: Pillow in /usr/local/lib/python3.7/dist-packages (from face_recognition) (7.1.2)\n",
            "Building wheels for collected packages: face-recognition-models\n",
            "  Building wheel for face-recognition-models (setup.py) ... \u001b[?25l\u001b[?25hdone\n",
            "  Created wheel for face-recognition-models: filename=face_recognition_models-0.3.0-py2.py3-none-any.whl size=100566186 sha256=a24eceb289a17dac05c0841fbbd4869823b2dabbb3368ccc097ed6fefca15f5d\n",
            "  Stored in directory: /root/.cache/pip/wheels/d6/81/3c/884bcd5e1c120ff548d57c2ecc9ebf3281c9a6f7c0e7e7947a\n",
            "Successfully built face-recognition-models\n",
            "Installing collected packages: face-recognition-models, face-recognition\n",
            "Successfully installed face-recognition-1.3.0 face-recognition-models-0.3.0\n"
          ]
        }
      ],
      "source": [
        "!pip3 install face_recognition"
      ]
    },
    {
      "cell_type": "code",
      "execution_count": 6,
      "metadata": {
        "id": "QZ22Sj8d0JoT",
        "colab": {
          "base_uri": "https://localhost:8080/",
          "height": 0
        },
        "outputId": "dca7d8bd-8231-4815-d432-08d4bc16570e"
      },
      "outputs": [
        {
          "output_type": "stream",
          "name": "stdout",
          "text": [
            "Total no of videos : 400\n",
            "['/content/drive/MyDrive/FF_REAL_Face_only_data/abofeumbvv.mp4', '/content/drive/MyDrive/FF_REAL_Face_only_data/aapnvogymq.mp4', '/content/drive/MyDrive/FF_REAL_Face_only_data/acifjvzvpm.mp4', '/content/drive/MyDrive/FF_REAL_Face_only_data/aagfhgtpmv.mp4', '/content/drive/MyDrive/FF_REAL_Face_only_data/abqwwspghj.mp4', '/content/drive/MyDrive/FF_REAL_Face_only_data/abarnvbtwb.mp4', '/content/drive/MyDrive/FF_REAL_Face_only_data/acqfdwsrhi.mp4', '/content/drive/MyDrive/FF_REAL_Face_only_data/aczrgyricp.mp4', '/content/drive/MyDrive/FF_REAL_Face_only_data/adhsbajydo.mp4', '/content/drive/MyDrive/FF_REAL_Face_only_data/acxnxvbsxk.mp4', '/content/drive/MyDrive/FF_REAL_Face_only_data/acxwigylke.mp4', '/content/drive/MyDrive/FF_REAL_Face_only_data/adohikbdaz.mp4', '/content/drive/MyDrive/FF_REAL_Face_only_data/adylbeequz.mp4', '/content/drive/MyDrive/FF_REAL_Face_only_data/afoovlsmtx.mp4', '/content/drive/MyDrive/FF_REAL_Face_only_data/aettqgevhz.mp4', '/content/drive/MyDrive/FF_REAL_Face_only_data/aelfnikyqj.mp4', '/content/drive/MyDrive/FF_REAL_Face_only_data/aelzhcnwgf.mp4', '/content/drive/MyDrive/FF_REAL_Face_only_data/aevrfsexku.mp4', '/content/drive/MyDrive/FF_REAL_Face_only_data/agqphdxmwt.mp4', '/content/drive/MyDrive/FF_REAL_Face_only_data/ahbweevwpv.mp4', '/content/drive/MyDrive/FF_REAL_Face_only_data/agrmhtjdlk.mp4', '/content/drive/MyDrive/FF_REAL_Face_only_data/agdkmztvby.mp4', '/content/drive/MyDrive/FF_REAL_Face_only_data/ahdbuwqxit.mp4', '/content/drive/MyDrive/FF_REAL_Face_only_data/ahfazfbntc.mp4', '/content/drive/MyDrive/FF_REAL_Face_only_data/ahqqqilsxt.mp4', '/content/drive/MyDrive/FF_REAL_Face_only_data/akxoopqjqz.mp4', '/content/drive/MyDrive/FF_REAL_Face_only_data/aipfdnwpoo.mp4', '/content/drive/MyDrive/FF_REAL_Face_only_data/aknbdpmgua.mp4', '/content/drive/MyDrive/FF_REAL_Face_only_data/aknmpoonls.mp4', '/content/drive/MyDrive/FF_REAL_Face_only_data/akvmwkdyuv.mp4', '/content/drive/MyDrive/FF_REAL_Face_only_data/aklqzsddfl.mp4', '/content/drive/MyDrive/FF_REAL_Face_only_data/ajqslcypsw.mp4', '/content/drive/MyDrive/FF_REAL_Face_only_data/akzbnazxtz.mp4', '/content/drive/MyDrive/FF_REAL_Face_only_data/ajwpjhrbcv.mp4', '/content/drive/MyDrive/FF_REAL_Face_only_data/altziddtxi.mp4', '/content/drive/MyDrive/FF_REAL_Face_only_data/amowujxmzc.mp4', '/content/drive/MyDrive/FF_REAL_Face_only_data/alvgwypubw.mp4', '/content/drive/MyDrive/FF_REAL_Face_only_data/alaijyygdv.mp4', '/content/drive/MyDrive/FF_REAL_Face_only_data/alninxcyhg.mp4', '/content/drive/MyDrive/FF_REAL_Face_only_data/amaivqofda.mp4', '/content/drive/MyDrive/FF_REAL_Face_only_data/aladcziidp.mp4', '/content/drive/MyDrive/FF_REAL_Face_only_data/andaxzscny.mp4', '/content/drive/MyDrive/FF_REAL_Face_only_data/aneclqfpbt.mp4', '/content/drive/MyDrive/FF_REAL_Face_only_data/apatcsqejh.mp4', '/content/drive/MyDrive/FF_REAL_Face_only_data/anpuvshzoo.mp4', '/content/drive/MyDrive/FF_REAL_Face_only_data/aorjvbyxhw.mp4', '/content/drive/MyDrive/FF_REAL_Face_only_data/apgjqzkoma.mp4', '/content/drive/MyDrive/FF_REAL_Face_only_data/arkroixhey.mp4', '/content/drive/MyDrive/FF_REAL_Face_only_data/apogckdfrz.mp4', '/content/drive/MyDrive/FF_REAL_Face_only_data/arlmiizoob.mp4', '/content/drive/MyDrive/FF_REAL_Face_only_data/arrhsnjqku.mp4', '/content/drive/MyDrive/FF_REAL_Face_only_data/aqpnvjhuzw.mp4', '/content/drive/MyDrive/FF_REAL_Face_only_data/asmpfjfzif.mp4', '/content/drive/MyDrive/FF_REAL_Face_only_data/asdpeebotb.mp4', '/content/drive/MyDrive/FF_REAL_Face_only_data/aslsvlvpth.mp4', '/content/drive/MyDrive/FF_REAL_Face_only_data/asaxgevnnp.mp4', '/content/drive/MyDrive/FF_REAL_Face_only_data/atxvxouljq.mp4', '/content/drive/MyDrive/FF_REAL_Face_only_data/asvcrfdpnq.mp4', '/content/drive/MyDrive/FF_REAL_Face_only_data/atvmxvwyns.mp4', '/content/drive/MyDrive/FF_REAL_Face_only_data/atkdltyyen.mp4', '/content/drive/MyDrive/FF_REAL_Face_only_data/atzdznmder.mp4', '/content/drive/MyDrive/FF_REAL_Face_only_data/atyntldecu.mp4', '/content/drive/MyDrive/FF_REAL_Face_only_data/aufmsmnoye.mp4', '/content/drive/MyDrive/FF_REAL_Face_only_data/augtsuxpzc.mp4', '/content/drive/MyDrive/FF_REAL_Face_only_data/avmjormvsx.mp4', '/content/drive/MyDrive/FF_REAL_Face_only_data/avfitoutyn.mp4', '/content/drive/MyDrive/FF_REAL_Face_only_data/avgiuextiz.mp4', '/content/drive/MyDrive/FF_REAL_Face_only_data/avibnnhwhp.mp4', '/content/drive/MyDrive/FF_REAL_Face_only_data/avssvvsdhz.mp4', '/content/drive/MyDrive/FF_REAL_Face_only_data/avnqydkqjj.mp4', '/content/drive/MyDrive/FF_REAL_Face_only_data/awukslzjra.mp4', '/content/drive/MyDrive/FF_REAL_Face_only_data/avtycwsgyb.mp4', '/content/drive/MyDrive/FF_REAL_Face_only_data/awhmfnnjih.mp4', '/content/drive/MyDrive/FF_REAL_Face_only_data/awnwkrqibf.mp4', '/content/drive/MyDrive/FF_REAL_Face_only_data/avywawptfc.mp4', '/content/drive/MyDrive/FF_REAL_Face_only_data/avvdgsennp.mp4', '/content/drive/MyDrive/FF_REAL_Face_only_data/axoygtekut.mp4', '/content/drive/MyDrive/FF_REAL_Face_only_data/axwgcsyphv.mp4', '/content/drive/MyDrive/FF_REAL_Face_only_data/axntxmycwd.mp4', '/content/drive/MyDrive/FF_REAL_Face_only_data/axczxisdtb.mp4', '/content/drive/MyDrive/FF_REAL_Face_only_data/axwovszumc.mp4', '/content/drive/MyDrive/FF_REAL_Face_only_data/aybgughjxh.mp4', '/content/drive/MyDrive/FF_REAL_Face_only_data/aybumesmpk.mp4', '/content/drive/MyDrive/FF_REAL_Face_only_data/azsmewqghg.mp4', '/content/drive/MyDrive/FF_REAL_Face_only_data/azpuxunqyo.mp4', '/content/drive/MyDrive/FF_REAL_Face_only_data/bahdpoesir.mp4', '/content/drive/MyDrive/FF_REAL_Face_only_data/ayqvfdhslr.mp4', '/content/drive/MyDrive/FF_REAL_Face_only_data/aytzyidmgs.mp4', '/content/drive/MyDrive/FF_REAL_Face_only_data/bbhpvrmbse.mp4', '/content/drive/MyDrive/FF_REAL_Face_only_data/bctvsmddgq.mp4', '/content/drive/MyDrive/FF_REAL_Face_only_data/bbvgxeczei.mp4', '/content/drive/MyDrive/FF_REAL_Face_only_data/bchnbulevv.mp4', '/content/drive/MyDrive/FF_REAL_Face_only_data/bbhtdfuqxq.mp4', '/content/drive/MyDrive/FF_REAL_Face_only_data/bddjdhzfze.mp4', '/content/drive/MyDrive/FF_REAL_Face_only_data/bdbhekrrwo.mp4', '/content/drive/MyDrive/FF_REAL_Face_only_data/bdgipnyobr.mp4', '/content/drive/MyDrive/FF_REAL_Face_only_data/bdnaqemxmr.mp4', '/content/drive/MyDrive/FF_REAL_Face_only_data/bejhvclboh.mp4', '/content/drive/MyDrive/FF_REAL_Face_only_data/benmsfzfaz.mp4', '/content/drive/MyDrive/FF_REAL_Face_only_data/bdxuhamuqx.mp4', '/content/drive/MyDrive/FF_REAL_Face_only_data/beboztfcme.mp4', '/content/drive/MyDrive/FF_REAL_Face_only_data/beyebyhrph.mp4', '/content/drive/MyDrive/FF_REAL_Face_only_data/bffwsjxghk.mp4', '/content/drive/MyDrive/FF_REAL_Face_only_data/bghphrsfxf.mp4', '/content/drive/MyDrive/FF_REAL_Face_only_data/bgaogsjehq.mp4', '/content/drive/MyDrive/FF_REAL_Face_only_data/bggsurpgpr.mp4', '/content/drive/MyDrive/FF_REAL_Face_only_data/bguwlyazau.mp4', '/content/drive/MyDrive/FF_REAL_Face_only_data/bgmlwsoamc.mp4', '/content/drive/MyDrive/FF_REAL_Face_only_data/bhpwpydzpo.mp4', '/content/drive/MyDrive/FF_REAL_Face_only_data/bgwmmujlmc.mp4', '/content/drive/MyDrive/FF_REAL_Face_only_data/bhbdugnurr.mp4', '/content/drive/MyDrive/FF_REAL_Face_only_data/bhaaboftbc.mp4', '/content/drive/MyDrive/FF_REAL_Face_only_data/bgvhtpzknn.mp4', '/content/drive/MyDrive/FF_REAL_Face_only_data/bhsluedavd.mp4', '/content/drive/MyDrive/FF_REAL_Face_only_data/bjjbwsqjir.mp4', '/content/drive/MyDrive/FF_REAL_Face_only_data/bjsmaqefoi.mp4', '/content/drive/MyDrive/FF_REAL_Face_only_data/bilnggbxgu.mp4', '/content/drive/MyDrive/FF_REAL_Face_only_data/bjkmjilrxp.mp4', '/content/drive/MyDrive/FF_REAL_Face_only_data/bkmdzhfzfh.mp4', '/content/drive/MyDrive/FF_REAL_Face_only_data/bkwxhglwct.mp4', '/content/drive/MyDrive/FF_REAL_Face_only_data/bmbbkwmxqj.mp4', '/content/drive/MyDrive/FF_REAL_Face_only_data/blpchvmhxx.mp4', '/content/drive/MyDrive/FF_REAL_Face_only_data/blzydqdfem.mp4', '/content/drive/MyDrive/FF_REAL_Face_only_data/bmehkyanbj.mp4', '/content/drive/MyDrive/FF_REAL_Face_only_data/bmhvktyiwp.mp4', '/content/drive/MyDrive/FF_REAL_Face_only_data/bkvetcojbt.mp4', '/content/drive/MyDrive/FF_REAL_Face_only_data/bmioepcpsx.mp4', '/content/drive/MyDrive/FF_REAL_Face_only_data/bmjmjmbglm.mp4', '/content/drive/MyDrive/FF_REAL_Face_only_data/bmjzrlszhi.mp4', '/content/drive/MyDrive/FF_REAL_Face_only_data/bndybcqhfr.mp4', '/content/drive/MyDrive/FF_REAL_Face_only_data/bnbuonyoje.mp4', '/content/drive/MyDrive/FF_REAL_Face_only_data/bntlodcfeg.mp4', '/content/drive/MyDrive/FF_REAL_Face_only_data/bofqajtwve.mp4', '/content/drive/MyDrive/FF_REAL_Face_only_data/bnjcdrfuov.mp4', '/content/drive/MyDrive/FF_REAL_Face_only_data/boovltmuwi.mp4', '/content/drive/MyDrive/FF_REAL_Face_only_data/bopqhhalml.mp4', '/content/drive/MyDrive/FF_REAL_Face_only_data/bourlmzsio.mp4', '/content/drive/MyDrive/FF_REAL_Face_only_data/bpapbctoao.mp4', '/content/drive/MyDrive/FF_REAL_Face_only_data/bpwzipqtxf.mp4', '/content/drive/MyDrive/FF_REAL_Face_only_data/bqdjzqhcft.mp4', '/content/drive/MyDrive/FF_REAL_Face_only_data/bqhtpqmmqp.mp4', '/content/drive/MyDrive/FF_REAL_Face_only_data/bqkdbcqjvb.mp4', '/content/drive/MyDrive/FF_REAL_Face_only_data/bpxckdzddv.mp4', '/content/drive/MyDrive/FF_REAL_Face_only_data/bqeiblbxtl.mp4', '/content/drive/MyDrive/FF_REAL_Face_only_data/brhalypwoo.mp4', '/content/drive/MyDrive/FF_REAL_Face_only_data/bqqpbzjgup.mp4', '/content/drive/MyDrive/FF_REAL_Face_only_data/bqtuuwzdtr.mp4', '/content/drive/MyDrive/FF_REAL_Face_only_data/bqnymlsayl.mp4', '/content/drive/MyDrive/FF_REAL_Face_only_data/brvqtabyxj.mp4', '/content/drive/MyDrive/FF_REAL_Face_only_data/brwrlczjvi.mp4', '/content/drive/MyDrive/FF_REAL_Face_only_data/bsfmwclnqy.mp4', '/content/drive/MyDrive/FF_REAL_Face_only_data/bsqgziaylx.mp4', '/content/drive/MyDrive/FF_REAL_Face_only_data/bseamdrpbj.mp4', '/content/drive/MyDrive/FF_REAL_Face_only_data/btiysiskpf.mp4', '/content/drive/MyDrive/FF_REAL_Face_only_data/btjlfpzbdu.mp4', '/content/drive/MyDrive/FF_REAL_Face_only_data/btmsngnqhv.mp4', '/content/drive/MyDrive/FF_REAL_Face_only_data/btohlidmru.mp4', '/content/drive/MyDrive/FF_REAL_Face_only_data/btjwbtsgln.mp4', '/content/drive/MyDrive/FF_REAL_Face_only_data/btugrnoton.mp4', '/content/drive/MyDrive/FF_REAL_Face_only_data/btxlttbpkj.mp4', '/content/drive/MyDrive/FF_REAL_Face_only_data/bulkxhhknf.mp4', '/content/drive/MyDrive/FF_REAL_Face_only_data/btunxncpjh.mp4', '/content/drive/MyDrive/FF_REAL_Face_only_data/bweezhfpzp.mp4', '/content/drive/MyDrive/FF_REAL_Face_only_data/bwhlgysghg.mp4', '/content/drive/MyDrive/FF_REAL_Face_only_data/bvgwelbeof.mp4', '/content/drive/MyDrive/FF_REAL_Face_only_data/bwipwzzxxu.mp4', '/content/drive/MyDrive/FF_REAL_Face_only_data/bvzjkezkms.mp4', '/content/drive/MyDrive/FF_REAL_Face_only_data/byofowlkki.mp4', '/content/drive/MyDrive/FF_REAL_Face_only_data/bwuwstvsbw.mp4', '/content/drive/MyDrive/FF_REAL_Face_only_data/byijojkdba.mp4', '/content/drive/MyDrive/FF_REAL_Face_only_data/bydaidkpdp.mp4', '/content/drive/MyDrive/FF_REAL_Face_only_data/byqzyxifza.mp4', '/content/drive/MyDrive/FF_REAL_Face_only_data/byfenovjnf.mp4', '/content/drive/MyDrive/FF_REAL_Face_only_data/bxzakyopjf.mp4', '/content/drive/MyDrive/FF_REAL_Face_only_data/bzythlfnhq.mp4', '/content/drive/MyDrive/FF_REAL_Face_only_data/byyqectxqa.mp4', '/content/drive/MyDrive/FF_REAL_Face_only_data/bzmdrafeex.mp4', '/content/drive/MyDrive/FF_REAL_Face_only_data/byunigvnay.mp4', '/content/drive/MyDrive/FF_REAL_Face_only_data/cbbibzcoih.mp4', '/content/drive/MyDrive/FF_REAL_Face_only_data/caqbrkogkb.mp4', '/content/drive/MyDrive/FF_REAL_Face_only_data/caifxvsozs.mp4', '/content/drive/MyDrive/FF_REAL_Face_only_data/cdbsbdymzd.mp4', '/content/drive/MyDrive/FF_REAL_Face_only_data/ccfoszqabv.mp4', '/content/drive/MyDrive/FF_REAL_Face_only_data/cbltdtxglo.mp4', '/content/drive/MyDrive/FF_REAL_Face_only_data/ccmonzqfrz.mp4', '/content/drive/MyDrive/FF_REAL_Face_only_data/cdaxixbosp.mp4', '/content/drive/MyDrive/FF_REAL_Face_only_data/ceymbecxnj.mp4', '/content/drive/MyDrive/FF_REAL_Face_only_data/cdyakrxkia.mp4', '/content/drive/MyDrive/FF_REAL_Face_only_data/cepxysienc.mp4', '/content/drive/MyDrive/FF_REAL_Face_only_data/cettndmvzl.mp4', '/content/drive/MyDrive/FF_REAL_Face_only_data/cdphtzqrvp.mp4', '/content/drive/MyDrive/FF_REAL_Face_only_data/cfyduhpbps.mp4', '/content/drive/MyDrive/FF_REAL_Face_only_data/cfxkpiweqt.mp4', '/content/drive/MyDrive/FF_REAL_Face_only_data/cferslmfwh.mp4', '/content/drive/MyDrive/FF_REAL_Face_only_data/cffffbcywc.mp4', '/content/drive/MyDrive/FF_REAL_Face_only_data/cglxirfaey.mp4', '/content/drive/MyDrive/FF_REAL_Face_only_data/chviwxsfhg.mp4', '/content/drive/MyDrive/FF_REAL_Face_only_data/chtapglbcj.mp4', '/content/drive/MyDrive/FF_REAL_Face_only_data/ckkuyewywx.mp4', '/content/drive/MyDrive/FF_REAL_Face_only_data/cgvrgibpfo.mp4', '/content/drive/MyDrive/FF_REAL_Face_only_data/cizlkenljw.mp4', '/content/drive/MyDrive/FF_REAL_Face_only_data/cknyxaqouy.mp4', '/content/drive/MyDrive/FF_REAL_Face_only_data/ciyoudyhly.mp4', '/content/drive/MyDrive/FF_REAL_Face_only_data/ckbdwedgmc.mp4', '/content/drive/MyDrive/FF_REAL_Face_only_data/ckjaibzfxa.mp4', '/content/drive/MyDrive/FF_REAL_Face_only_data/chzieimrwu.mp4', '/content/drive/MyDrive/FF_REAL_Face_only_data/clihsshdkq.mp4', '/content/drive/MyDrive/FF_REAL_Face_only_data/clrycekyst.mp4', '/content/drive/MyDrive/FF_REAL_Face_only_data/cksanfsjhc.mp4', '/content/drive/MyDrive/FF_REAL_Face_only_data/cnilkgvfei.mp4', '/content/drive/MyDrive/FF_REAL_Face_only_data/coadfnerlk.mp4', '/content/drive/MyDrive/FF_REAL_Face_only_data/cmxcfkrjiv.mp4', '/content/drive/MyDrive/FF_REAL_Face_only_data/cmbzllswnl.mp4', '/content/drive/MyDrive/FF_REAL_Face_only_data/cobjrlugvp.mp4', '/content/drive/MyDrive/FF_REAL_Face_only_data/cprhtltsjp.mp4', '/content/drive/MyDrive/FF_REAL_Face_only_data/crktehraph.mp4', '/content/drive/MyDrive/FF_REAL_Face_only_data/cpjxareypw.mp4', '/content/drive/MyDrive/FF_REAL_Face_only_data/cqfugiqupm.mp4', '/content/drive/MyDrive/FF_REAL_Face_only_data/crezycjqyk.mp4', '/content/drive/MyDrive/FF_REAL_Face_only_data/cqrskwiqng.mp4', '/content/drive/MyDrive/FF_REAL_Face_only_data/covdcysmbi.mp4', '/content/drive/MyDrive/FF_REAL_Face_only_data/cqhngvpgyi.mp4', '/content/drive/MyDrive/FF_REAL_Face_only_data/cppdvdejkc.mp4', '/content/drive/MyDrive/FF_REAL_Face_only_data/crzfebnfgb.mp4', '/content/drive/MyDrive/FF_REAL_Face_only_data/ctpqeykqdp.mp4', '/content/drive/MyDrive/FF_REAL_Face_only_data/cthdnahrkh.mp4', '/content/drive/MyDrive/FF_REAL_Face_only_data/cttqtsjvgn.mp4', '/content/drive/MyDrive/FF_REAL_Face_only_data/ctzmavwror.mp4', '/content/drive/MyDrive/FF_REAL_Face_only_data/curpwogllm.mp4', '/content/drive/MyDrive/FF_REAL_Face_only_data/cvaksbpssm.mp4', '/content/drive/MyDrive/FF_REAL_Face_only_data/cuzrgrbvil.mp4', '/content/drive/MyDrive/FF_REAL_Face_only_data/cwbacdwrzo.mp4', '/content/drive/MyDrive/FF_REAL_Face_only_data/cxfujlvsuw.mp4', '/content/drive/MyDrive/FF_REAL_Face_only_data/cwwandrkus.mp4', '/content/drive/MyDrive/FF_REAL_Face_only_data/cxttmymlbn.mp4', '/content/drive/MyDrive/FF_REAL_Face_only_data/cxrfacemmq.mp4', '/content/drive/MyDrive/FF_REAL_Face_only_data/cwqlvzefpg.mp4', '/content/drive/MyDrive/FF_REAL_Face_only_data/cwrtyzndpx.mp4', '/content/drive/MyDrive/FF_REAL_Face_only_data/cwsbspfzck.mp4', '/content/drive/MyDrive/FF_REAL_Face_only_data/cycacemkmt.mp4', '/content/drive/MyDrive/FF_REAL_Face_only_data/cyclgfjdrv.mp4', '/content/drive/MyDrive/FF_REAL_Face_only_data/cyboodqqyr.mp4', '/content/drive/MyDrive/FF_REAL_Face_only_data/cyxlcuyznd.mp4', '/content/drive/MyDrive/FF_REAL_Face_only_data/dakqwktlbi.mp4', '/content/drive/MyDrive/FF_REAL_Face_only_data/dakiztgtnw.mp4', '/content/drive/MyDrive/FF_REAL_Face_only_data/dafhtipaml.mp4', '/content/drive/MyDrive/FF_REAL_Face_only_data/czkdanyadc.mp4', '/content/drive/MyDrive/FF_REAL_Face_only_data/czmqpxrqoh.mp4', '/content/drive/MyDrive/FF_REAL_Face_only_data/dbhoxkblzx.mp4', '/content/drive/MyDrive/FF_REAL_Face_only_data/czfunozvwp.mp4', '/content/drive/MyDrive/FF_REAL_Face_only_data/dboxtiehng.mp4', '/content/drive/MyDrive/FF_REAL_Face_only_data/dbtbbhakdv.mp4', '/content/drive/MyDrive/FF_REAL_Face_only_data/dbzcqmxzaj.mp4', '/content/drive/MyDrive/FF_REAL_Face_only_data/dbzpcjntve.mp4', '/content/drive/MyDrive/FF_REAL_Face_only_data/dbhrpizyeq.mp4', '/content/drive/MyDrive/FF_REAL_Face_only_data/dbnygxtwek.mp4', '/content/drive/MyDrive/FF_REAL_Face_only_data/dcuiiorugd.mp4', '/content/drive/MyDrive/FF_REAL_Face_only_data/dcamvmuors.mp4', '/content/drive/MyDrive/FF_REAL_Face_only_data/ddjggcasdw.mp4', '/content/drive/MyDrive/FF_REAL_Face_only_data/ddpvuimigj.mp4', '/content/drive/MyDrive/FF_REAL_Face_only_data/ddqccgmtka.mp4', '/content/drive/MyDrive/FF_REAL_Face_only_data/degpbqvcay.mp4', '/content/drive/MyDrive/FF_REAL_Face_only_data/ddhfabwpuz.mp4', '/content/drive/MyDrive/FF_REAL_Face_only_data/ddepeddixj.mp4', '/content/drive/MyDrive/FF_REAL_Face_only_data/dfbpceeaox.mp4', '/content/drive/MyDrive/FF_REAL_Face_only_data/deyyistcrd.mp4', '/content/drive/MyDrive/FF_REAL_Face_only_data/dgmevclvzy.mp4', '/content/drive/MyDrive/FF_REAL_Face_only_data/dgxrqjdomn.mp4', '/content/drive/MyDrive/FF_REAL_Face_only_data/deywhkarol.mp4', '/content/drive/MyDrive/FF_REAL_Face_only_data/dhcselezer.mp4', '/content/drive/MyDrive/FF_REAL_Face_only_data/dhevettufk.mp4', '/content/drive/MyDrive/FF_REAL_Face_only_data/dgzklxjmix.mp4', '/content/drive/MyDrive/FF_REAL_Face_only_data/dhjmzhrcav.mp4', '/content/drive/MyDrive/FF_REAL_Face_only_data/dhcndnuwta.mp4', '/content/drive/MyDrive/FF_REAL_Face_only_data/diomeixhrg.mp4', '/content/drive/MyDrive/FF_REAL_Face_only_data/diopzaywor.mp4', '/content/drive/MyDrive/FF_REAL_Face_only_data/dhoqofwoxa.mp4', '/content/drive/MyDrive/FF_REAL_Face_only_data/dhkwmjxwrn.mp4', '/content/drive/MyDrive/FF_REAL_Face_only_data/dhxctgyoqj.mp4', '/content/drive/MyDrive/FF_REAL_Face_only_data/djvtbgwdcc.mp4', '/content/drive/MyDrive/FF_REAL_Face_only_data/djxdyjopjd.mp4', '/content/drive/MyDrive/FF_REAL_Face_only_data/diqraixiov.mp4', '/content/drive/MyDrive/FF_REAL_Face_only_data/diuzrpqjli.mp4', '/content/drive/MyDrive/FF_REAL_Face_only_data/djvutyvaio.mp4', '/content/drive/MyDrive/FF_REAL_Face_only_data/dkdwxmtpuo.mp4', '/content/drive/MyDrive/FF_REAL_Face_only_data/dkhlttuvmx.mp4', '/content/drive/MyDrive/FF_REAL_Face_only_data/dkrvorliqc.mp4', '/content/drive/MyDrive/FF_REAL_Face_only_data/dlpoieqvfb.mp4', '/content/drive/MyDrive/FF_REAL_Face_only_data/dkwjwbwgey.mp4', '/content/drive/MyDrive/FF_REAL_Face_only_data/dkuayagnmc.mp4', '/content/drive/MyDrive/FF_REAL_Face_only_data/dkzvdrzcnr.mp4', '/content/drive/MyDrive/FF_REAL_Face_only_data/dnexlwbcxq.mp4', '/content/drive/MyDrive/FF_REAL_Face_only_data/dlrsbscitn.mp4', '/content/drive/MyDrive/FF_REAL_Face_only_data/dnhvalzvrt.mp4', '/content/drive/MyDrive/FF_REAL_Face_only_data/dozyddhild.mp4', '/content/drive/MyDrive/FF_REAL_Face_only_data/dptbnjnkdg.mp4', '/content/drive/MyDrive/FF_REAL_Face_only_data/dofusvhnib.mp4', '/content/drive/MyDrive/FF_REAL_Face_only_data/dnyvfblxpm.mp4', '/content/drive/MyDrive/FF_REAL_Face_only_data/doanjploai.mp4', '/content/drive/MyDrive/FF_REAL_Face_only_data/dntkzzzcdh.mp4', '/content/drive/MyDrive/FF_REAL_Face_only_data/dptrzdvwpg.mp4', '/content/drive/MyDrive/FF_REAL_Face_only_data/dqzreruvje.mp4', '/content/drive/MyDrive/FF_REAL_Face_only_data/drcyabprvt.mp4', '/content/drive/MyDrive/FF_REAL_Face_only_data/dqnyszdong.mp4', '/content/drive/MyDrive/FF_REAL_Face_only_data/dqppxmoqdl.mp4', '/content/drive/MyDrive/FF_REAL_Face_only_data/dqqtjcryjv.mp4', '/content/drive/MyDrive/FF_REAL_Face_only_data/dqswpjoepo.mp4', '/content/drive/MyDrive/FF_REAL_Face_only_data/drgjzlxzxj.mp4', '/content/drive/MyDrive/FF_REAL_Face_only_data/drtbksnpol.mp4', '/content/drive/MyDrive/FF_REAL_Face_only_data/drsakwyvqv.mp4', '/content/drive/MyDrive/FF_REAL_Face_only_data/dtocdfbwca.mp4', '/content/drive/MyDrive/FF_REAL_Face_only_data/dtbpmdqvao.mp4', '/content/drive/MyDrive/FF_REAL_Face_only_data/dsjbknkujw.mp4', '/content/drive/MyDrive/FF_REAL_Face_only_data/dubiroskqn.mp4', '/content/drive/MyDrive/FF_REAL_Face_only_data/dsgpbgsrdm.mp4', '/content/drive/MyDrive/FF_REAL_Face_only_data/dsndhujjjb.mp4', '/content/drive/MyDrive/FF_REAL_Face_only_data/dulanfulol.mp4', '/content/drive/MyDrive/FF_REAL_Face_only_data/dsdoseflas.mp4', '/content/drive/MyDrive/FF_REAL_Face_only_data/duycddgtrl.mp4', '/content/drive/MyDrive/FF_REAL_Face_only_data/duvyaxbzvp.mp4', '/content/drive/MyDrive/FF_REAL_Face_only_data/dvumqqhoac.mp4', '/content/drive/MyDrive/FF_REAL_Face_only_data/duzuusuajr.mp4', '/content/drive/MyDrive/FF_REAL_Face_only_data/dwediigjit.mp4', '/content/drive/MyDrive/FF_REAL_Face_only_data/dvakowbgbt.mp4', '/content/drive/MyDrive/FF_REAL_Face_only_data/dzyuwjkjui.mp4', '/content/drive/MyDrive/FF_REAL_Face_only_data/dzqwgqewhu.mp4', '/content/drive/MyDrive/FF_REAL_Face_only_data/dxbqjxrhin.mp4', '/content/drive/MyDrive/FF_REAL_Face_only_data/dxuliowugt.mp4', '/content/drive/MyDrive/FF_REAL_Face_only_data/dzvyfiarrq.mp4', '/content/drive/MyDrive/FF_REAL_Face_only_data/dzwkmcwkwl.mp4', '/content/drive/MyDrive/FF_REAL_Face_only_data/dzieklokdr.mp4', '/content/drive/MyDrive/FF_REAL_Face_only_data/dxuplhwvig.mp4', '/content/drive/MyDrive/FF_REAL_Face_only_data/eajlrktemq.mp4', '/content/drive/MyDrive/FF_REAL_Face_only_data/ebebgmtlcu.mp4', '/content/drive/MyDrive/FF_REAL_Face_only_data/eahlqmfvtj.mp4', '/content/drive/MyDrive/FF_REAL_Face_only_data/ebchwmwayp.mp4', '/content/drive/MyDrive/FF_REAL_Face_only_data/ebeknhudxq.mp4', '/content/drive/MyDrive/FF_REAL_Face_only_data/ebywfrmhtd.mp4', '/content/drive/MyDrive/FF_REAL_Face_only_data/ebkzwjgjhq.mp4', '/content/drive/MyDrive/FF_REAL_Face_only_data/ecujsjhscd.mp4', '/content/drive/MyDrive/FF_REAL_Face_only_data/ecuvtoltue.mp4', '/content/drive/MyDrive/FF_REAL_Face_only_data/eckvhdusax.mp4', '/content/drive/MyDrive/FF_REAL_Face_only_data/ecnihjlfyt.mp4', '/content/drive/MyDrive/FF_REAL_Face_only_data/eeyhxisdfh.mp4', '/content/drive/MyDrive/FF_REAL_Face_only_data/ecwaxgutkc.mp4', '/content/drive/MyDrive/FF_REAL_Face_only_data/eczrseixwq.mp4', '/content/drive/MyDrive/FF_REAL_Face_only_data/eebserckhh.mp4', '/content/drive/MyDrive/FF_REAL_Face_only_data/eebrkicpry.mp4', '/content/drive/MyDrive/FF_REAL_Face_only_data/edyncaijwx.mp4', '/content/drive/MyDrive/FF_REAL_Face_only_data/eekozbeafq.mp4', '/content/drive/MyDrive/FF_REAL_Face_only_data/eepezmygaq.mp4', '/content/drive/MyDrive/FF_REAL_Face_only_data/eejswgycjc.mp4', '/content/drive/MyDrive/FF_REAL_Face_only_data/efdyrflcpg.mp4', '/content/drive/MyDrive/FF_REAL_Face_only_data/efwfxwwlbw.mp4', '/content/drive/MyDrive/FF_REAL_Face_only_data/egbbcxcuqy.mp4', '/content/drive/MyDrive/FF_REAL_Face_only_data/eggbjzxnmg.mp4', '/content/drive/MyDrive/FF_REAL_Face_only_data/ehbnclaukr.mp4', '/content/drive/MyDrive/FF_REAL_Face_only_data/ehccixxzoe.mp4', '/content/drive/MyDrive/FF_REAL_Face_only_data/egghxjjmfg.mp4', '/content/drive/MyDrive/FF_REAL_Face_only_data/ehdkmxgtxh.mp4', '/content/drive/MyDrive/FF_REAL_Face_only_data/ehfiekigla.mp4', '/content/drive/MyDrive/FF_REAL_Face_only_data/ehevsxtecd.mp4', '/content/drive/MyDrive/FF_REAL_Face_only_data/eiwopxzjfn.mp4', '/content/drive/MyDrive/FF_REAL_Face_only_data/ehtdtkmmli.mp4', '/content/drive/MyDrive/FF_REAL_Face_only_data/eivxffliio.mp4', '/content/drive/MyDrive/FF_REAL_Face_only_data/ehieahnhte.mp4', '/content/drive/MyDrive/FF_REAL_Face_only_data/eiriyukqqy.mp4', '/content/drive/MyDrive/FF_REAL_Face_only_data/ejkqesyvam.mp4', '/content/drive/MyDrive/FF_REAL_Face_only_data/eixwxvxbbn.mp4', '/content/drive/MyDrive/FF_REAL_Face_only_data/emgjphonqb.mp4', '/content/drive/MyDrive/FF_REAL_Face_only_data/eqjscdagiv.mp4', '/content/drive/MyDrive/FF_REAL_Face_only_data/ekcrtigpab.mp4', '/content/drive/MyDrive/FF_REAL_Face_only_data/elvvackpjh.mp4', '/content/drive/MyDrive/FF_REAL_Face_only_data/ensyyivobf.mp4', '/content/drive/MyDrive/FF_REAL_Face_only_data/eoewqcpbgt.mp4', '/content/drive/MyDrive/FF_REAL_Face_only_data/ellavthztb.mp4', '/content/drive/MyDrive/FF_REAL_Face_only_data/ekkdjkirzq.mp4', '/content/drive/MyDrive/FF_REAL_Face_only_data/ekhacizpah.mp4', '/content/drive/MyDrive/FF_REAL_Face_only_data/elginszwtk.mp4', '/content/drive/MyDrive/FF_REAL_Face_only_data/eqvuznuwsa.mp4', '/content/drive/MyDrive/FF_REAL_Face_only_data/eqnoqyfquo.mp4', '/content/drive/MyDrive/FF_REAL_Face_only_data/eprybmbpba.mp4', '/content/drive/MyDrive/FF_REAL_Face_only_data/emaalmsonj.mp4', '/content/drive/MyDrive/FF_REAL_Face_only_data/emfbhytfhc.mp4', '/content/drive/MyDrive/FF_REAL_Face_only_data/erlvuvjsjf.mp4', '/content/drive/MyDrive/FF_REAL_Face_only_data/esyhwdfnxs.mp4', '/content/drive/MyDrive/FF_REAL_Face_only_data/epymyyiblu.mp4', '/content/drive/MyDrive/FF_REAL_Face_only_data/eudeqjhdfd.mp4', '/content/drive/MyDrive/FF_REAL_Face_only_data/etdcqxabww.mp4', '/content/drive/MyDrive/FF_REAL_Face_only_data/esyrimvzsa.mp4', '/content/drive/MyDrive/FF_REAL_Face_only_data/erqgqacbqe.mp4', '/content/drive/MyDrive/FF_REAL_Face_only_data/esgftaficx.mp4', '/content/drive/MyDrive/FF_REAL_Face_only_data/etejaapnxh.mp4', '/content/drive/MyDrive/FF_REAL_Face_only_data/esxrvsgpvb.mp4', '/content/drive/MyDrive/FF_REAL_Face_only_data/esnntzzajv.mp4', '/content/drive/MyDrive/FF_REAL_Face_only_data/errocgcham.mp4', '/content/drive/MyDrive/FF_REAL_Face_only_data/eukvucdetx.mp4', '/content/drive/MyDrive/FF_REAL_Face_only_data/etohcvnzbj.mp4', '/content/drive/MyDrive/FF_REAL_Face_only_data/esckbnkkvb.mp4', '/content/drive/MyDrive/FF_REAL_Face_only_data/etmcruaihe.mp4']\n",
            "Number of video processed:  1  Remaining :  399\n",
            "Corrupted video is :  /content/drive/MyDrive/FF_REAL_Face_only_data/abofeumbvv.mp4\n",
            "Number of video processed:  9  Remaining :  391\n",
            "Corrupted video is :  /content/drive/MyDrive/FF_REAL_Face_only_data/adhsbajydo.mp4\n",
            "Number of video processed:  42  Remaining :  358\n",
            "Corrupted video is :  /content/drive/MyDrive/FF_REAL_Face_only_data/andaxzscny.mp4\n",
            "Number of video processed:  46  Remaining :  354\n",
            "Corrupted video is :  /content/drive/MyDrive/FF_REAL_Face_only_data/aorjvbyxhw.mp4\n",
            "Number of video processed:  59  Remaining :  341\n",
            "Corrupted video is :  /content/drive/MyDrive/FF_REAL_Face_only_data/atvmxvwyns.mp4\n",
            "Number of video processed:  76  Remaining :  324\n",
            "Corrupted video is :  /content/drive/MyDrive/FF_REAL_Face_only_data/avvdgsennp.mp4\n",
            "Number of video processed:  78  Remaining :  322\n",
            "Corrupted video is :  /content/drive/MyDrive/FF_REAL_Face_only_data/axwgcsyphv.mp4\n",
            "Number of video processed:  91  Remaining :  309\n",
            "Corrupted video is :  /content/drive/MyDrive/FF_REAL_Face_only_data/bbvgxeczei.mp4\n",
            "Number of video processed:  103  Remaining :  297\n",
            "Corrupted video is :  /content/drive/MyDrive/FF_REAL_Face_only_data/bffwsjxghk.mp4\n",
            "Number of video processed:  142  Remaining :  258\n",
            "Corrupted video is :  /content/drive/MyDrive/FF_REAL_Face_only_data/bqkdbcqjvb.mp4\n",
            "Number of video processed:  188  Remaining :  212\n",
            "Corrupted video is :  /content/drive/MyDrive/FF_REAL_Face_only_data/cdyakrxkia.mp4\n",
            "Number of video processed:  237  Remaining :  163\n",
            "Corrupted video is :  /content/drive/MyDrive/FF_REAL_Face_only_data/cwqlvzefpg.mp4\n",
            "Number of video processed:  240  Remaining :  160\n",
            "Corrupted video is :  /content/drive/MyDrive/FF_REAL_Face_only_data/cycacemkmt.mp4\n",
            "Number of video processed:  248  Remaining :  152\n",
            "Corrupted video is :  /content/drive/MyDrive/FF_REAL_Face_only_data/czmqpxrqoh.mp4\n",
            "Number of video processed:  277  Remaining :  123\n",
            "Corrupted video is :  /content/drive/MyDrive/FF_REAL_Face_only_data/dhoqofwoxa.mp4\n",
            "Number of video processed:  284  Remaining :  116\n",
            "Corrupted video is :  /content/drive/MyDrive/FF_REAL_Face_only_data/djvutyvaio.mp4\n",
            "Number of video processed:  286  Remaining :  114\n",
            "Corrupted video is :  /content/drive/MyDrive/FF_REAL_Face_only_data/dkhlttuvmx.mp4\n",
            "Number of video processed:  294  Remaining :  106\n",
            "Corrupted video is :  /content/drive/MyDrive/FF_REAL_Face_only_data/dnhvalzvrt.mp4\n",
            "Number of video processed:  304  Remaining :  96\n",
            "Corrupted video is :  /content/drive/MyDrive/FF_REAL_Face_only_data/dqnyszdong.mp4\n",
            "Number of video processed:  361  Remaining :  39\n",
            "Corrupted video is :  /content/drive/MyDrive/FF_REAL_Face_only_data/ehfiekigla.mp4\n",
            "Number of video processed:  375  Remaining :  25\n",
            "Corrupted video is :  /content/drive/MyDrive/FF_REAL_Face_only_data/eoewqcpbgt.mp4\n",
            "Number of video processed:  386  Remaining :  14\n",
            "Corrupted video is :  /content/drive/MyDrive/FF_REAL_Face_only_data/esyhwdfnxs.mp4\n",
            "Number of video processed:  387  Remaining :  13\n",
            "Corrupted video is :  /content/drive/MyDrive/FF_REAL_Face_only_data/epymyyiblu.mp4\n",
            "0\n"
          ]
        }
      ],
      "source": [
        "#THis code is to check if the video is corrupted or not..\n",
        "#If the video is corrupted delete the video.\n",
        "import glob\n",
        "import torch\n",
        "import torchvision\n",
        "from torchvision import transforms\n",
        "from torch.utils.data import DataLoader\n",
        "from torch.utils.data.dataset import Dataset\n",
        "import os\n",
        "import numpy as np\n",
        "import cv2\n",
        "import matplotlib.pyplot as plt\n",
        "import face_recognition\n",
        "#Check if the file is corrupted or not\n",
        "def validate_video(vid_path,train_transforms):\n",
        "      transform = train_transforms\n",
        "      count = 20\n",
        "      video_path = vid_path\n",
        "      frames = []\n",
        "      a = int(100/count)\n",
        "      first_frame = np.random.randint(0,a)\n",
        "      temp_video = video_path.split('/')[-1]\n",
        "      for i,frame in enumerate(frame_extract(video_path)):\n",
        "        frames.append(transform(frame))\n",
        "        if(len(frames) == count):\n",
        "          break\n",
        "      frames = torch.stack(frames)\n",
        "      frames = frames[:count]\n",
        "      return frames\n",
        "#extract a frame from video\n",
        "def frame_extract(path):\n",
        "  vidObj = cv2.VideoCapture(path) \n",
        "  success = 1\n",
        "  while success:\n",
        "      success, image = vidObj.read()\n",
        "      if success:\n",
        "          yield image\n",
        "\n",
        "im_size = 112\n",
        "mean = [0.485, 0.456, 0.406]\n",
        "std = [0.229, 0.224, 0.225]\n",
        "\n",
        "train_transforms = transforms.Compose([\n",
        "                                        transforms.ToPILImage(),\n",
        "                                        transforms.Resize((im_size,im_size)),\n",
        "                                        transforms.ToTensor(),\n",
        "                                        transforms.Normalize(mean,std)])\n",
        "video_fil =  glob.glob('/content/drive/MyDrive/FF_REAL_Face_only_data/*.mp4*')\n",
        "\n",
        "print(\"Total no of videos :\" , len(video_fil))\n",
        "print(video_fil)\n",
        "count = 0;\n",
        "for i in video_fil:\n",
        "  try:\n",
        "    count+=1\n",
        "    validate_video(i,train_transforms)\n",
        "  except:\n",
        "    print(\"Number of video processed: \" , count ,\" Remaining : \" , (len(video_fil) - count))\n",
        "    print(\"Corrupted video is : \" , i)\n",
        "    continue\n",
        "print((len(video_fil) - count))"
      ]
    },
    {
      "cell_type": "code",
      "execution_count": 7,
      "metadata": {
        "id": "CEIygy8uDFXc",
        "colab": {
          "base_uri": "https://localhost:8080/",
          "height": 0
        },
        "outputId": "41984f09-c4c9-4196-f829-985b030985f5"
      },
      "outputs": [
        {
          "output_type": "stream",
          "name": "stdout",
          "text": [
            "frames are  [148, 148, 148, 148, 148, 148, 148, 148, 148, 148, 148, 148, 148, 148, 148, 148, 148, 148, 148, 148, 148, 148, 148, 148, 148, 148, 148, 148, 148, 148, 148, 148, 148, 148, 148, 148, 148, 148, 148, 148, 148, 148, 148, 148, 148, 148, 148, 148, 148, 148, 148, 148, 148, 148, 148, 148, 148, 148, 148, 148, 148, 148, 148, 148, 148, 148, 148, 148, 148, 148, 148, 148, 148, 148, 148, 148, 148, 148, 148, 148, 148, 148, 148, 148, 148, 148, 148, 148, 148, 148, 148, 148, 148, 148, 148, 148, 148, 148, 148, 148, 148, 148, 148, 148, 148, 148, 148, 148, 148, 148, 148, 148, 148, 148, 148, 148, 148, 148, 148, 148, 148, 148, 148, 148, 148, 148, 148, 148, 148, 148, 148, 148, 148, 148, 148, 148, 148, 148, 148, 148, 148, 148, 148, 148, 148, 148, 148, 148, 148, 148, 148, 148, 148, 148, 148, 148, 148, 148, 144, 148, 148, 148, 148, 148, 148, 148, 148, 148, 148, 148, 148, 148, 148, 148, 148, 148, 148, 148, 148, 148, 148, 148, 148, 148, 148, 148, 148, 148, 148, 148, 148, 148, 148, 148, 148, 148, 148, 148, 148, 148, 148, 148, 148, 148, 148, 148, 148, 148, 148, 148, 148, 148, 148, 148, 148, 148, 148, 148, 148, 148, 148, 148, 148, 148, 148, 148, 148, 148, 148, 148, 148, 148, 148, 148, 148, 148, 148, 148, 148, 148, 148, 148, 148, 148, 148, 148, 148, 148, 148, 148, 148, 148, 148, 148, 148, 148, 148, 148, 148, 148, 148, 148, 148, 148, 148, 148, 148, 148, 148, 148, 148, 148, 148, 148, 148, 148, 148, 148, 148, 148, 148, 148, 148, 148, 148, 148, 148, 148, 148, 148, 142, 148, 148, 148, 148, 148, 148, 148, 148, 148, 148, 148, 148, 148, 148, 148, 148, 148, 148, 148, 148, 148, 148, 148, 148, 148, 148, 148, 148, 148, 148, 148, 148, 148, 148, 148, 148, 148, 148, 148, 148, 148, 148, 148, 148, 148, 148, 148, 148, 148, 148, 148, 148, 148, 148, 148, 148, 148, 148, 148]\n",
            "Total no of video:  350\n",
            "Average frame per video: 147.97142857142856\n"
          ]
        }
      ],
      "source": [
        "#to load preprocessod video to memory\n",
        "import json\n",
        "import glob\n",
        "import numpy as np\n",
        "import cv2\n",
        "import copy\n",
        "import random\n",
        "%matplotlib inline\n",
        "video_files =  glob.glob('/content/drive/MyDrive/FF_REAL_Face_only_data/*.mp4*')\n",
        "\n",
        "random.shuffle(video_files)\n",
        "random.shuffle(video_files)\n",
        "frame_count = []\n",
        "for video_file in video_files:\n",
        "  cap = cv2.VideoCapture(video_file)\n",
        "  if(int(cap.get(cv2.CAP_PROP_FRAME_COUNT))<100):\n",
        "    video_files.remove(video_file)\n",
        "    continue\n",
        "  frame_count.append(int(cap.get(cv2.CAP_PROP_FRAME_COUNT)))\n",
        "print(\"frames are \" , frame_count)\n",
        "print(\"Total no of video: \" , len(frame_count))\n",
        "print('Average frame per video:',np.mean(frame_count))"
      ]
    },
    {
      "cell_type": "code",
      "execution_count": 18,
      "metadata": {
        "id": "OqGXNkqhDKZU"
      },
      "outputs": [],
      "source": [
        "# load the video name and labels from csv\n",
        "%matplotlib inline\n",
        "import torch\n",
        "import torchvision\n",
        "from torchvision import transforms\n",
        "from torch.utils.data import DataLoader\n",
        "from torch.utils.data.dataset import Dataset\n",
        "import os\n",
        "import numpy as np\n",
        "import cv2\n",
        "import matplotlib.pyplot as plt\n",
        "import face_recognition\n",
        "class video_dataset(Dataset):\n",
        "    def __init__(self,video_names,labels,sequence_length = 60,transform = None):\n",
        "        self.video_names = video_names\n",
        "        self.labels = labels\n",
        "        self.transform = transform\n",
        "        self.count = sequence_length\n",
        "    def __len__(self):\n",
        "        return len(self.video_names)\n",
        "    def __getitem__(self,idx):\n",
        "        video_path = self.video_names[idx]\n",
        "        frames = []\n",
        "        a = int(100/self.count)\n",
        "        first_frame = np.random.randint(0,a)\n",
        "        temp_video = video_path.split('/')[-1]\n",
        "        #print(temp_video)\n",
        "        label = self.labels.iloc[(labels.loc[labels[\"file\"] == temp_video].index.values[0]),1]\n",
        "        if(label == 'FAKE'):\n",
        "          label = 0\n",
        "        if(label == 'REAL'):\n",
        "          label = 1\n",
        "        for i,frame in enumerate(self.frame_extract(video_path)):\n",
        "          frames.append(self.transform(frame))\n",
        "          if(len(frames) == self.count):\n",
        "            break\n",
        "        frames = torch.stack(frames)\n",
        "        frames = frames[:self.count]\n",
        "        #print(\"length:\" , len(frames), \"label\",label)\n",
        "        return frames,label\n",
        "    def frame_extract(self,path):\n",
        "      vidObj = cv2.VideoCapture(path) \n",
        "      success = 1\n",
        "      while success:\n",
        "          success, image = vidObj.read()\n",
        "          if success:\n",
        "              yield image\n",
        "#plot the image\n",
        "def im_plot(tensor):\n",
        "    image = tensor.cpu().numpy().transpose(1,2,0)\n",
        "    b,g,r = cv2.split(image)\n",
        "    image = cv2.merge((r,g,b))\n",
        "    image = image*[0.22803, 0.22145, 0.216989] +  [0.43216, 0.394666, 0.37645]\n",
        "    image = image*255.0\n",
        "    plt.imshow(image.astype(int))\n",
        "    plt.show()"
      ]
    },
    {
      "cell_type": "code",
      "execution_count": 9,
      "metadata": {
        "id": "1leMozhXa5LF"
      },
      "outputs": [],
      "source": [
        "#count the number of fake and real videos\n",
        "def number_of_real_and_fake_videos(data_list):\n",
        "  header_list = [\"file\",\"label\"]\n",
        "  lab = pd.read_csv('/content/drive/MyDrive/metadata.csv',names=header_list)\n",
        "  fake = 0\n",
        "  real = 0\n",
        "  for i in data_list:\n",
        "    temp_video = i.split('/')[-1]\n",
        "    label = lab.iloc[(labels.loc[labels[\"file\"] == temp_video].index.values[0]),1]\n",
        "    if(label == 'FAKE'):\n",
        "      fake+=1\n",
        "    if(label == 'REAL'):\n",
        "      real+=1\n",
        "  return real,fake"
      ]
    },
    {
      "cell_type": "code",
      "execution_count": 10,
      "metadata": {
        "id": "sWMZn0YHDO2b",
        "colab": {
          "base_uri": "https://localhost:8080/",
          "height": 409
        },
        "outputId": "f22656d2-f65e-42a0-b876-03405a636ed9"
      },
      "outputs": [
        {
          "output_type": "stream",
          "name": "stdout",
          "text": [
            "train :  300\n",
            "test :  75\n"
          ]
        },
        {
          "output_type": "stream",
          "name": "stderr",
          "text": [
            "/usr/local/lib/python3.7/dist-packages/torch/utils/data/dataloader.py:481: UserWarning: This DataLoader will create 4 worker processes in total. Our suggested max number of worker in current system is 2, which is smaller than what this DataLoader is going to create. Please be aware that excessive worker creation might get DataLoader running slow or even freeze, lower the worker number to avoid potential slowness/freeze if necessary.\n",
            "  cpuset_checked))\n",
            "Clipping input data to the valid range for imshow with RGB data ([0..1] for floats or [0..255] for integers).\n"
          ]
        },
        {
          "output_type": "stream",
          "name": "stdout",
          "text": [
            "TRAIN:  Real: 57  Fake: 243\n",
            "TEST:  Real: 18  Fake: 57\n"
          ]
        },
        {
          "output_type": "display_data",
          "data": {
            "text/plain": [
              "<Figure size 432x288 with 1 Axes>"
            ],
            "image/png": "[encoded data removed]"
          },
          "metadata": {
            "needs_background": "light"
          }
        }
      ],
      "source": [
        "# load the labels and video in data loader\n",
        "import random\n",
        "import pandas as pd\n",
        "from sklearn.model_selection import train_test_split\n",
        "\n",
        "header_list = [\"file\",\"label\"]\n",
        "labels = pd.read_csv('/content/drive/MyDrive/metadata.csv',names=header_list)\n",
        "#print(labels)\n",
        "train_videos = video_files[:int(0.8*len(video_files))]\n",
        "valid_videos = video_files[int(0.8*len(video_files)):]\n",
        "print(\"train : \" , len(train_videos))\n",
        "print(\"test : \" , len(valid_videos))\n",
        "# train_videos,valid_videos = train_test_split(data,test_size = 0.2)\n",
        "# print(train_videos)\n",
        "\n",
        "print(\"TRAIN: \", \"Real:\",number_of_real_and_fake_videos(train_videos)[0],\" Fake:\",number_of_real_and_fake_videos(train_videos)[1])\n",
        "print(\"TEST: \", \"Real:\",number_of_real_and_fake_videos(valid_videos)[0],\" Fake:\",number_of_real_and_fake_videos(valid_videos)[1])\n",
        "\n",
        "\n",
        "im_size = 112\n",
        "mean = [0.485, 0.456, 0.406]\n",
        "std = [0.229, 0.224, 0.225]\n",
        "\n",
        "train_transforms = transforms.Compose([\n",
        "                                        transforms.ToPILImage(),\n",
        "                                        transforms.Resize((im_size,im_size)),\n",
        "                                        transforms.ToTensor(),\n",
        "                                        transforms.Normalize(mean,std)])\n",
        "\n",
        "test_transforms = transforms.Compose([\n",
        "                                        transforms.ToPILImage(),\n",
        "                                        transforms.Resize((im_size,im_size)),\n",
        "                                        transforms.ToTensor(),\n",
        "                                        transforms.Normalize(mean,std)])\n",
        "train_data = video_dataset(train_videos,labels,sequence_length = 10,transform = train_transforms)\n",
        "#print(train_data)\n",
        "val_data = video_dataset(valid_videos,labels,sequence_length = 10,transform = train_transforms)\n",
        "train_loader = DataLoader(train_data,batch_size = 4,shuffle = True,num_workers = 4)\n",
        "valid_loader = DataLoader(val_data,batch_size = 4,shuffle = True,num_workers = 4)\n",
        "image,label = train_data[0]\n",
        "im_plot(image[0,:,:,:])\n"
      ]
    },
    {
      "cell_type": "code",
      "execution_count": 11,
      "metadata": {
        "id": "UtOXSqyBDRnD"
      },
      "outputs": [],
      "source": [
        "#Model with feature visualization\n",
        "from torch import nn\n",
        "from torchvision import models\n",
        "class Model(nn.Module):\n",
        "    def __init__(self, num_classes,latent_dim= 2048, lstm_layers=1 , hidden_dim = 2048, bidirectional = False):\n",
        "        super(Model, self).__init__()\n",
        "        model = models.resnext50_32x4d(pretrained = True) #Residual Network CNN\n",
        "        self.model = nn.Sequential(*list(model.children())[:-2])\n",
        "        self.lstm = nn.LSTM(latent_dim,hidden_dim, lstm_layers,  bidirectional)\n",
        "        self.relu = nn.LeakyReLU()\n",
        "        self.dp = nn.Dropout(0.4)\n",
        "        self.linear1 = nn.Linear(2048,num_classes)\n",
        "        self.avgpool = nn.AdaptiveAvgPool2d(1)\n",
        "    def forward(self, x):\n",
        "        batch_size,seq_length, c, h, w = x.shape\n",
        "        x = x.view(batch_size * seq_length, c, h, w)\n",
        "        fmap = self.model(x)\n",
        "        x = self.avgpool(fmap)\n",
        "        x = x.view(batch_size,seq_length,2048)\n",
        "        x_lstm,_ = self.lstm(x,None)\n",
        "        return fmap,self.dp(self.linear1(torch.mean(x_lstm,dim = 1)))"
      ]
    },
    {
      "cell_type": "code",
      "execution_count": 12,
      "metadata": {
        "id": "WYNhn10tDV90",
        "colab": {
          "base_uri": "https://localhost:8080/",
          "height": 87,
          "referenced_widgets": [
            "74bbb456ba3c466e814a4792537cf949",
            "637524b5d1a240feb098779cfb0ff67a",
            "92e03748b962453aa32e511ae18878e7",
            "94f668c0d5ac449fb4b7c4ecd11125c4",
            "951d79a96b1a4b9a8ab1cf9d12afdc29",
            "91128c896c8340e19c72b4c3ccece34f",
            "d8b6ebe0b2af4ffd98a13875b7a53bb3",
            "0e9eab28a3524472b8492cc2525cc009",
            "2ea1b82a42354f72bb94cf18a069cf31",
            "2996f4c253114edeb4ecea36d5a742e4",
            "d447e75a3f7d46feadbb3227660f4dc8"
          ]
        },
        "outputId": "f6d05ae6-9259-4286-ced2-6d78dfdc33ce"
      },
      "outputs": [
        {
          "output_type": "stream",
          "name": "stderr",
          "text": [
            "Downloading: \"https://download.pytorch.org/models/resnext50_32x4d-7cdf4587.pth\" to /root/.cache/torch/hub/checkpoints/resnext50_32x4d-7cdf4587.pth\n"
          ]
        },
        {
          "output_type": "display_data",
          "data": {
            "text/plain": [
              "  0%|          | 0.00/95.8M [00:00<?, ?B/s]"
            ],
            "application/vnd.jupyter.widget-view+json": {
              "version_major": 2,
              "version_minor": 0,
              "model_id": "74bbb456ba3c466e814a4792537cf949"
            }
          },
          "metadata": {}
        }
      ],
      "source": [
        "model = Model(2).cuda()\n",
        "a,b = model(torch.from_numpy(np.empty((1,20,3,112,112))).type(torch.cuda.FloatTensor))"
      ]
    },
    {
      "cell_type": "code",
      "execution_count": 13,
      "metadata": {
        "id": "FKheLUWBDaNN"
      },
      "outputs": [],
      "source": [
        "import torch\n",
        "from torch.autograd import Variable\n",
        "import time\n",
        "import os\n",
        "import sys\n",
        "import os\n",
        "def train_epoch(epoch, num_epochs, data_loader, model, criterion, optimizer):\n",
        "    model.train()\n",
        "    losses = AverageMeter()\n",
        "    accuracies = AverageMeter()\n",
        "    t = []\n",
        "    for i, (inputs, targets) in enumerate(data_loader):\n",
        "        if torch.cuda.is_available():\n",
        "            targets = targets.type(torch.cuda.LongTensor)\n",
        "            inputs = inputs.cuda()\n",
        "        _,outputs = model(inputs)\n",
        "        loss  = criterion(outputs,targets.type(torch.cuda.LongTensor))\n",
        "        acc = calculate_accuracy(outputs, targets.type(torch.cuda.LongTensor))\n",
        "        losses.update(loss.item(), inputs.size(0))\n",
        "        accuracies.update(acc, inputs.size(0))\n",
        "        optimizer.zero_grad()\n",
        "        loss.backward()\n",
        "        optimizer.step()\n",
        "        sys.stdout.write(\n",
        "                \"\\r[Epoch %d/%d] [Batch %d / %d] [Loss: %f, Acc: %.2f%%]\"\n",
        "                % (\n",
        "                    epoch,\n",
        "                    num_epochs,\n",
        "                    i,\n",
        "                    len(data_loader),\n",
        "                    losses.avg,\n",
        "                    accuracies.avg))\n",
        "    torch.save(model.state_dict(),'/content/checkpoint.pt')\n",
        "    return losses.avg,accuracies.avg\n",
        "def test(epoch,model, data_loader ,criterion):\n",
        "    print('Testing')\n",
        "    model.eval()\n",
        "    losses = AverageMeter()\n",
        "    accuracies = AverageMeter()\n",
        "    pred = []\n",
        "    true = []\n",
        "    count = 0\n",
        "    with torch.no_grad():\n",
        "        for i, (inputs, targets) in enumerate(data_loader):\n",
        "            if torch.cuda.is_available():\n",
        "                targets = targets.cuda().type(torch.cuda.FloatTensor)\n",
        "                inputs = inputs.cuda()\n",
        "            _,outputs = model(inputs)\n",
        "            loss = torch.mean(criterion(outputs, targets.type(torch.cuda.LongTensor)))\n",
        "            acc = calculate_accuracy(outputs,targets.type(torch.cuda.LongTensor))\n",
        "            _,p = torch.max(outputs,1) \n",
        "            true += (targets.type(torch.cuda.LongTensor)).detach().cpu().numpy().reshape(len(targets)).tolist()\n",
        "            pred += p.detach().cpu().numpy().reshape(len(p)).tolist()\n",
        "            losses.update(loss.item(), inputs.size(0))\n",
        "            accuracies.update(acc, inputs.size(0))\n",
        "            sys.stdout.write(\n",
        "                    \"\\r[Batch %d / %d]  [Loss: %f, Acc: %.2f%%]\"\n",
        "                    % (\n",
        "                        i,\n",
        "                        len(data_loader),\n",
        "                        losses.avg,\n",
        "                        accuracies.avg\n",
        "                        )\n",
        "                    )\n",
        "        print('\\nAccuracy {}'.format(accuracies.avg))\n",
        "    return true,pred,losses.avg,accuracies.avg\n",
        "class AverageMeter(object):\n",
        "    \"\"\"Computes and stores the average and current value\"\"\"\n",
        "    def __init__(self):\n",
        "        self.reset()\n",
        "    def reset(self):\n",
        "        self.val = 0\n",
        "        self.avg = 0\n",
        "        self.sum = 0\n",
        "        self.count = 0\n",
        "\n",
        "    def update(self, val, n=1):\n",
        "        self.val = val\n",
        "        self.sum += val * n\n",
        "        self.count += n\n",
        "        self.avg = self.sum / self.count\n",
        "def calculate_accuracy(outputs, targets):\n",
        "    batch_size = targets.size(0)\n",
        "\n",
        "    _, pred = outputs.topk(1, 1, True)\n",
        "    pred = pred.t()\n",
        "    correct = pred.eq(targets.view(1, -1))\n",
        "    n_correct_elems = correct.float().sum().item()\n",
        "    return 100* n_correct_elems / batch_size"
      ]
    },
    {
      "cell_type": "code",
      "execution_count": 14,
      "metadata": {
        "id": "b8WneBZNfysN"
      },
      "outputs": [],
      "source": [
        "import seaborn as sn\n",
        "#Output confusion matrix\n",
        "def print_confusion_matrix(y_true, y_pred):\n",
        "    cm = confusion_matrix(y_true, y_pred)\n",
        "    print('True positive = ', cm[0][0])\n",
        "    print('False positive = ', cm[0][1])\n",
        "    print('False negative = ', cm[1][0])\n",
        "    print('True negative = ', cm[1][1])\n",
        "    print('\\n')\n",
        "    df_cm = pd.DataFrame(cm, range(2), range(2))\n",
        "    sn.set(font_scale=1.4) # for label size\n",
        "    sn.heatmap(df_cm, annot=True, annot_kws={\"size\": 16}) # font size\n",
        "    plt.ylabel('Actual label', size = 20)\n",
        "    plt.xlabel('Predicted label', size = 20)\n",
        "    plt.xticks(np.arange(2), ['Fake', 'Real'], size = 16)\n",
        "    plt.yticks(np.arange(2), ['Fake', 'Real'], size = 16)\n",
        "    plt.ylim([2, 0])\n",
        "    plt.show()\n",
        "    calculated_acc = (cm[0][0]+cm[1][1])/(cm[0][0]+cm[0][1]+cm[1][0]+ cm[1][1])\n",
        "    print(\"Calculated Accuracy\",calculated_acc*100)"
      ]
    },
    {
      "cell_type": "code",
      "execution_count": 15,
      "metadata": {
        "id": "fExJLjt2AtV9"
      },
      "outputs": [],
      "source": [
        "from matplotlib import pyplot as plt\n",
        "def plot_loss(train_loss_avg,test_loss_avg,num_epochs):\n",
        "  loss_train = train_loss_avg\n",
        "  loss_val = test_loss_avg\n",
        "  print(num_epochs)\n",
        "  epochs = range(1,num_epochs+1)\n",
        "  plt.plot(epochs, loss_train, 'g', label='Training loss')\n",
        "  plt.plot(epochs, loss_val, 'b', label='validation loss')\n",
        "  plt.title('Training and Validation loss')\n",
        "  plt.xlabel('Epochs')\n",
        "  plt.ylabel('Loss')\n",
        "  plt.legend()\n",
        "  plt.show()\n",
        "def plot_accuracy(train_accuracy,test_accuracy,num_epochs):\n",
        "  loss_train = train_accuracy\n",
        "  loss_val = test_accuracy\n",
        "  epochs = range(1,num_epochs+1)\n",
        "  plt.plot(epochs, loss_train, 'g', label='Training accuracy')\n",
        "  plt.plot(epochs, loss_val, 'b', label='validation accuracy')\n",
        "  plt.title('Training and Validation accuracy')\n",
        "  plt.xlabel('Epochs')\n",
        "  plt.ylabel('Accuracy')\n",
        "  plt.legend()\n",
        "  plt.show()"
      ]
    },
    {
      "cell_type": "code",
      "execution_count": 16,
      "metadata": {
        "id": "rUe1XrYnDdit",
        "colab": {
          "base_uri": "https://localhost:8080/",
          "height": 2139
        },
        "outputId": "c84f9ce9-8d90-424f-891d-6825a0117fcc"
      },
      "outputs": [
        {
          "output_type": "stream",
          "name": "stderr",
          "text": [
            "/usr/local/lib/python3.7/dist-packages/torch/utils/data/dataloader.py:481: UserWarning: This DataLoader will create 4 worker processes in total. Our suggested max number of worker in current system is 2, which is smaller than what this DataLoader is going to create. Please be aware that excessive worker creation might get DataLoader running slow or even freeze, lower the worker number to avoid potential slowness/freeze if necessary.\n",
            "  cpuset_checked))\n"
          ]
        },
        {
          "output_type": "stream",
          "name": "stdout",
          "text": [
            "[Epoch 1/20] [Batch 74 / 75] [Loss: 0.536755, Acc: 80.33%]Testing\n",
            "[Batch 18 / 19]  [Loss: 0.546178, Acc: 76.00%]\n",
            "Accuracy 76.0\n",
            "[Epoch 2/20] [Batch 74 / 75] [Loss: 0.512569, Acc: 81.00%]Testing\n",
            "[Batch 18 / 19]  [Loss: 0.532470, Acc: 76.00%]\n",
            "Accuracy 76.0\n",
            "[Epoch 3/20] [Batch 74 / 75] [Loss: 0.505638, Acc: 81.00%]Testing\n",
            "[Batch 18 / 19]  [Loss: 0.491884, Acc: 76.00%]\n",
            "Accuracy 76.0\n",
            "[Epoch 4/20] [Batch 74 / 75] [Loss: 0.453622, Acc: 81.67%]Testing\n",
            "[Batch 18 / 19]  [Loss: 0.460691, Acc: 80.00%]\n",
            "Accuracy 80.0\n",
            "[Epoch 5/20] [Batch 74 / 75] [Loss: 0.346678, Acc: 86.33%]Testing\n",
            "[Batch 18 / 19]  [Loss: 0.425206, Acc: 77.33%]\n",
            "Accuracy 77.33333333333333\n",
            "[Epoch 6/20] [Batch 74 / 75] [Loss: 0.317478, Acc: 88.00%]Testing\n",
            "[Batch 18 / 19]  [Loss: 0.433546, Acc: 80.00%]\n",
            "Accuracy 80.0\n",
            "[Epoch 7/20] [Batch 74 / 75] [Loss: 0.274479, Acc: 94.33%]Testing\n",
            "[Batch 18 / 19]  [Loss: 0.505547, Acc: 78.67%]\n",
            "Accuracy 78.66666666666667\n",
            "[Epoch 8/20] [Batch 74 / 75] [Loss: 0.219912, Acc: 93.67%]Testing\n",
            "[Batch 18 / 19]  [Loss: 0.436454, Acc: 82.67%]\n",
            "Accuracy 82.66666666666667\n",
            "[Epoch 9/20] [Batch 74 / 75] [Loss: 0.342387, Acc: 92.67%]Testing\n",
            "[Batch 18 / 19]  [Loss: 0.404520, Acc: 81.33%]\n",
            "Accuracy 81.33333333333333\n",
            "[Epoch 10/20] [Batch 74 / 75] [Loss: 0.256371, Acc: 91.33%]Testing\n",
            "[Batch 18 / 19]  [Loss: 0.509940, Acc: 77.33%]\n",
            "Accuracy 77.33333333333333\n",
            "[Epoch 11/20] [Batch 74 / 75] [Loss: 0.192194, Acc: 96.00%]Testing\n",
            "[Batch 18 / 19]  [Loss: 0.511208, Acc: 76.00%]\n",
            "Accuracy 76.0\n",
            "[Epoch 12/20] [Batch 74 / 75] [Loss: 0.222626, Acc: 93.33%]Testing\n",
            "[Batch 18 / 19]  [Loss: 0.443144, Acc: 81.33%]\n",
            "Accuracy 81.33333333333333\n",
            "[Epoch 13/20] [Batch 74 / 75] [Loss: 0.141647, Acc: 94.33%]Testing\n",
            "[Batch 18 / 19]  [Loss: 0.499777, Acc: 82.67%]\n",
            "Accuracy 82.66666666666667\n",
            "[Epoch 14/20] [Batch 74 / 75] [Loss: 0.204860, Acc: 96.00%]Testing\n",
            "[Batch 18 / 19]  [Loss: 0.419291, Acc: 84.00%]\n",
            "Accuracy 84.0\n",
            "[Epoch 15/20] [Batch 74 / 75] [Loss: 0.146092, Acc: 94.67%]Testing\n",
            "[Batch 18 / 19]  [Loss: 0.404303, Acc: 82.67%]\n",
            "Accuracy 82.66666666666667\n",
            "[Epoch 16/20] [Batch 74 / 75] [Loss: 0.165896, Acc: 96.33%]Testing\n",
            "[Batch 18 / 19]  [Loss: 0.469192, Acc: 84.00%]\n",
            "Accuracy 84.0\n",
            "[Epoch 17/20] [Batch 74 / 75] [Loss: 0.120661, Acc: 98.00%]Testing\n",
            "[Batch 18 / 19]  [Loss: 0.475510, Acc: 80.00%]\n",
            "Accuracy 80.0\n",
            "[Epoch 18/20] [Batch 74 / 75] [Loss: 0.168042, Acc: 94.33%]Testing\n",
            "[Batch 18 / 19]  [Loss: 0.382753, Acc: 86.67%]\n",
            "Accuracy 86.66666666666667\n",
            "[Epoch 19/20] [Batch 74 / 75] [Loss: 0.206614, Acc: 94.67%]Testing\n",
            "[Batch 18 / 19]  [Loss: 0.434434, Acc: 81.33%]\n",
            "Accuracy 81.33333333333333\n",
            "[Epoch 20/20] [Batch 74 / 75] [Loss: 0.182037, Acc: 94.33%]Testing\n",
            "[Batch 18 / 19]  [Loss: 0.442237, Acc: 82.67%]\n",
            "Accuracy 82.66666666666667\n",
            "20\n"
          ]
        },
        {
          "output_type": "display_data",
          "data": {
            "text/plain": [
              "<Figure size 432x288 with 1 Axes>"
            ],
            "image/png": "[encoded data removed]"
          },
          "metadata": {
            "needs_background": "light"
          }
        },
        {
          "output_type": "display_data",
          "data": {
            "text/plain": [
              "<Figure size 432x288 with 1 Axes>"
            ],
            "image/png": "[encoded data removed]"
          },
          "metadata": {
            "needs_background": "light"
          }
        },
        {
          "output_type": "stream",
          "name": "stdout",
          "text": [
            "[[49  8]\n",
            " [ 5 13]]\n",
            "True positive =  49\n",
            "False positive =  8\n",
            "False negative =  5\n",
            "True negative =  13\n",
            "\n",
            "\n"
          ]
        },
        {
          "output_type": "display_data",
          "data": {
            "text/plain": [
              "<Figure size 432x288 with 2 Axes>"
            ],
            "image/png": "[encoded data removed]"
          },
          "metadata": {}
        },
        {
          "output_type": "stream",
          "name": "stdout",
          "text": [
            "Calculated Accuracy 82.66666666666667\n"
          ]
        }
      ],
      "source": [
        "from sklearn.metrics import confusion_matrix\n",
        "#learning rate\n",
        "lr = 1e-5#0.001\n",
        "#number of epochs \n",
        "num_epochs = 20\n",
        "\n",
        "optimizer = torch.optim.Adam(model.parameters(), lr= lr,weight_decay = 1e-5)\n",
        "\n",
        "#class_weights = torch.from_numpy(np.asarray([1,15])).type(torch.FloatTensor).cuda()\n",
        "#criterion = nn.CrossEntropyLoss(weight = class_weights).cuda()\n",
        "criterion = nn.CrossEntropyLoss().cuda()\n",
        "train_loss_avg =[]\n",
        "train_accuracy = []\n",
        "test_loss_avg = []\n",
        "test_accuracy = []\n",
        "for epoch in range(1,num_epochs+1):\n",
        "    l, acc = train_epoch(epoch,num_epochs,train_loader,model,criterion,optimizer)\n",
        "    train_loss_avg.append(l)\n",
        "    train_accuracy.append(acc)\n",
        "    true,pred,tl,t_acc = test(epoch,model,valid_loader,criterion)\n",
        "    test_loss_avg.append(tl)\n",
        "    test_accuracy.append(t_acc)\n",
        "plot_loss(train_loss_avg,test_loss_avg,len(train_loss_avg))\n",
        "plot_accuracy(train_accuracy,test_accuracy,len(train_accuracy))\n",
        "print(confusion_matrix(true,pred))\n",
        "print_confusion_matrix(true,pred)"
      ]
    }
  ],
  "metadata": {
    "accelerator": "GPU",
    "colab": {
      "collapsed_sections": [],
      "name": "Model_and_train_csv.ipynb",
      "provenance": [],
      "include_colab_link": true
    },
    "kernelspec": {
      "display_name": "Python 3",
      "name": "python3"
    },
    "language_info": {
      "codemirror_mode": {
        "name": "ipython",
        "version": 3
      },
      "file_extension": ".py",
      "mimetype": "text/x-python",
      "name": "python",
      "nbconvert_exporter": "python",
      "pygments_lexer": "ipython3",
      "version": "3.6.2"
    },
    "widgets": {
      "application/vnd.jupyter.widget-state+json": {
        "74bbb456ba3c466e814a4792537cf949": {
          "model_module": "@jupyter-widgets/controls",
          "model_name": "HBoxModel",
          "model_module_version": "1.5.0",
          "state": {
            "_dom_classes": [],
            "_model_module": "@jupyter-widgets/controls",
            "_model_module_version": "1.5.0",
            "_model_name": "HBoxModel",
            "_view_count": null,
            "_view_module": "@jupyter-widgets/controls",
            "_view_module_version": "1.5.0",
            "_view_name": "HBoxView",
            "box_style": "",
            "children": [
              "IPY_MODEL_637524b5d1a240feb098779cfb0ff67a",
              "IPY_MODEL_92e03748b962453aa32e511ae18878e7",
              "IPY_MODEL_94f668c0d5ac449fb4b7c4ecd11125c4"
            ],
            "layout": "IPY_MODEL_951d79a96b1a4b9a8ab1cf9d12afdc29"
          }
        },
        "637524b5d1a240feb098779cfb0ff67a": {
          "model_module": "@jupyter-widgets/controls",
          "model_name": "HTMLModel",
          "model_module_version": "1.5.0",
          "state": {
            "_dom_classes": [],
            "_model_module": "@jupyter-widgets/controls",
            "_model_module_version": "1.5.0",
            "_model_name": "HTMLModel",
            "_view_count": null,
            "_view_module": "@jupyter-widgets/controls",
            "_view_module_version": "1.5.0",
            "_view_name": "HTMLView",
            "description": "",
            "description_tooltip": null,
            "layout": "IPY_MODEL_91128c896c8340e19c72b4c3ccece34f",
            "placeholder": "​",
            "style": "IPY_MODEL_d8b6ebe0b2af4ffd98a13875b7a53bb3",
            "value": "100%"
          }
        },
        "92e03748b962453aa32e511ae18878e7": {
          "model_module": "@jupyter-widgets/controls",
          "model_name": "FloatProgressModel",
          "model_module_version": "1.5.0",
          "state": {
            "_dom_classes": [],
            "_model_module": "@jupyter-widgets/controls",
            "_model_module_version": "1.5.0",
            "_model_name": "FloatProgressModel",
            "_view_count": null,
            "_view_module": "@jupyter-widgets/controls",
            "_view_module_version": "1.5.0",
            "_view_name": "ProgressView",
            "bar_style": "success",
            "description": "",
            "description_tooltip": null,
            "layout": "IPY_MODEL_0e9eab28a3524472b8492cc2525cc009",
            "max": 100441675,
            "min": 0,
            "orientation": "horizontal",
            "style": "IPY_MODEL_2ea1b82a42354f72bb94cf18a069cf31",
            "value": 100441675
          }
        },
        "94f668c0d5ac449fb4b7c4ecd11125c4": {
          "model_module": "@jupyter-widgets/controls",
          "model_name": "HTMLModel",
          "model_module_version": "1.5.0",
          "state": {
            "_dom_classes": [],
            "_model_module": "@jupyter-widgets/controls",
            "_model_module_version": "1.5.0",
            "_model_name": "HTMLModel",
            "_view_count": null,
            "_view_module": "@jupyter-widgets/controls",
            "_view_module_version": "1.5.0",
            "_view_name": "HTMLView",
            "description": "",
            "description_tooltip": null,
            "layout": "IPY_MODEL_2996f4c253114edeb4ecea36d5a742e4",
            "placeholder": "​",
            "style": "IPY_MODEL_d447e75a3f7d46feadbb3227660f4dc8",
            "value": " 95.8M/95.8M [00:00&lt;00:00, 250MB/s]"
          }
        },
        "951d79a96b1a4b9a8ab1cf9d12afdc29": {
          "model_module": "@jupyter-widgets/base",
          "model_name": "LayoutModel",
          "model_module_version": "1.2.0",
          "state": {
            "_model_module": "@jupyter-widgets/base",
            "_model_module_version": "1.2.0",
            "_model_name": "LayoutModel",
            "_view_count": null,
            "_view_module": "@jupyter-widgets/base",
            "_view_module_version": "1.2.0",
            "_view_name": "LayoutView",
            "align_content": null,
            "align_items": null,
            "align_self": null,
            "border": null,
            "bottom": null,
            "display": null,
            "flex": null,
            "flex_flow": null,
            "grid_area": null,
            "grid_auto_columns": null,
            "grid_auto_flow": null,
            "grid_auto_rows": null,
            "grid_column": null,
            "grid_gap": null,
            "grid_row": null,
            "grid_template_areas": null,
            "grid_template_columns": null,
            "grid_template_rows": null,
            "height": null,
            "justify_content": null,
            "justify_items": null,
            "left": null,
            "margin": null,
            "max_height": null,
            "max_width": null,
            "min_height": null,
            "min_width": null,
            "object_fit": null,
            "object_position": null,
            "order": null,
            "overflow": null,
            "overflow_x": null,
            "overflow_y": null,
            "padding": null,
            "right": null,
            "top": null,
            "visibility": null,
            "width": null
          }
        },
        "91128c896c8340e19c72b4c3ccece34f": {
          "model_module": "@jupyter-widgets/base",
          "model_name": "LayoutModel",
          "model_module_version": "1.2.0",
          "state": {
            "_model_module": "@jupyter-widgets/base",
            "_model_module_version": "1.2.0",
            "_model_name": "LayoutModel",
            "_view_count": null,
            "_view_module": "@jupyter-widgets/base",
            "_view_module_version": "1.2.0",
            "_view_name": "LayoutView",
            "align_content": null,
            "align_items": null,
            "align_self": null,
            "border": null,
            "bottom": null,
            "display": null,
            "flex": null,
            "flex_flow": null,
            "grid_area": null,
            "grid_auto_columns": null,
            "grid_auto_flow": null,
            "grid_auto_rows": null,
            "grid_column": null,
            "grid_gap": null,
            "grid_row": null,
            "grid_template_areas": null,
            "grid_template_columns": null,
            "grid_template_rows": null,
            "height": null,
            "justify_content": null,
            "justify_items": null,
            "left": null,
            "margin": null,
            "max_height": null,
            "max_width": null,
            "min_height": null,
            "min_width": null,
            "object_fit": null,
            "object_position": null,
            "order": null,
            "overflow": null,
            "overflow_x": null,
            "overflow_y": null,
            "padding": null,
            "right": null,
            "top": null,
            "visibility": null,
            "width": null
          }
        },
        "d8b6ebe0b2af4ffd98a13875b7a53bb3": {
          "model_module": "@jupyter-widgets/controls",
          "model_name": "DescriptionStyleModel",
          "model_module_version": "1.5.0",
          "state": {
            "_model_module": "@jupyter-widgets/controls",
            "_model_module_version": "1.5.0",
            "_model_name": "DescriptionStyleModel",
            "_view_count": null,
            "_view_module": "@jupyter-widgets/base",
            "_view_module_version": "1.2.0",
            "_view_name": "StyleView",
            "description_width": ""
          }
        },
        "0e9eab28a3524472b8492cc2525cc009": {
          "model_module": "@jupyter-widgets/base",
          "model_name": "LayoutModel",
          "model_module_version": "1.2.0",
          "state": {
            "_model_module": "@jupyter-widgets/base",
            "_model_module_version": "1.2.0",
            "_model_name": "LayoutModel",
            "_view_count": null,
            "_view_module": "@jupyter-widgets/base",
            "_view_module_version": "1.2.0",
            "_view_name": "LayoutView",
            "align_content": null,
            "align_items": null,
            "align_self": null,
            "border": null,
            "bottom": null,
            "display": null,
            "flex": null,
            "flex_flow": null,
            "grid_area": null,
            "grid_auto_columns": null,
            "grid_auto_flow": null,
            "grid_auto_rows": null,
            "grid_column": null,
            "grid_gap": null,
            "grid_row": null,
            "grid_template_areas": null,
            "grid_template_columns": null,
            "grid_template_rows": null,
            "height": null,
            "justify_content": null,
            "justify_items": null,
            "left": null,
            "margin": null,
            "max_height": null,
            "max_width": null,
            "min_height": null,
            "min_width": null,
            "object_fit": null,
            "object_position": null,
            "order": null,
            "overflow": null,
            "overflow_x": null,
            "overflow_y": null,
            "padding": null,
            "right": null,
            "top": null,
            "visibility": null,
            "width": null
          }
        },
        "2ea1b82a42354f72bb94cf18a069cf31": {
          "model_module": "@jupyter-widgets/controls",
          "model_name": "ProgressStyleModel",
          "model_module_version": "1.5.0",
          "state": {
            "_model_module": "@jupyter-widgets/controls",
            "_model_module_version": "1.5.0",
            "_model_name": "ProgressStyleModel",
            "_view_count": null,
            "_view_module": "@jupyter-widgets/base",
            "_view_module_version": "1.2.0",
            "_view_name": "StyleView",
            "bar_color": null,
            "description_width": ""
          }
        },
        "2996f4c253114edeb4ecea36d5a742e4": {
          "model_module": "@jupyter-widgets/base",
          "model_name": "LayoutModel",
          "model_module_version": "1.2.0",
          "state": {
            "_model_module": "@jupyter-widgets/base",
            "_model_module_version": "1.2.0",
            "_model_name": "LayoutModel",
            "_view_count": null,
            "_view_module": "@jupyter-widgets/base",
            "_view_module_version": "1.2.0",
            "_view_name": "LayoutView",
            "align_content": null,
            "align_items": null,
            "align_self": null,
            "border": null,
            "bottom": null,
            "display": null,
            "flex": null,
            "flex_flow": null,
            "grid_area": null,
            "grid_auto_columns": null,
            "grid_auto_flow": null,
            "grid_auto_rows": null,
            "grid_column": null,
            "grid_gap": null,
            "grid_row": null,
            "grid_template_areas": null,
            "grid_template_columns": null,
            "grid_template_rows": null,
            "height": null,
            "justify_content": null,
            "justify_items": null,
            "left": null,
            "margin": null,
            "max_height": null,
            "max_width": null,
            "min_height": null,
            "min_width": null,
            "object_fit": null,
            "object_position": null,
            "order": null,
            "overflow": null,
            "overflow_x": null,
            "overflow_y": null,
            "padding": null,
            "right": null,
            "top": null,
            "visibility": null,
            "width": null
          }
        },
        "d447e75a3f7d46feadbb3227660f4dc8": {
          "model_module": "@jupyter-widgets/controls",
          "model_name": "DescriptionStyleModel",
          "model_module_version": "1.5.0",
          "state": {
            "_model_module": "@jupyter-widgets/controls",
            "_model_module_version": "1.5.0",
            "_model_name": "DescriptionStyleModel",
            "_view_count": null,
            "_view_module": "@jupyter-widgets/base",
            "_view_module_version": "1.2.0",
            "_view_name": "StyleView",
            "description_width": ""
          }
        }
      }
    }
  },
  "nbformat": 4,
  "nbformat_minor": 0
}